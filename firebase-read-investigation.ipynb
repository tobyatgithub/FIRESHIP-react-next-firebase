{
 "cells": [
  {
   "cell_type": "code",
   "execution_count": 1,
   "id": "74af41f7-a084-43d2-ae3c-167a601b4869",
   "metadata": {
    "scrolled": true
   },
   "outputs": [],
   "source": [
    "# !which python\n",
    "# !python --version\n",
    "# !pip install --upgrade firebase-admin"
   ]
  },
  {
   "cell_type": "code",
   "execution_count": 2,
   "id": "a2d1880c-686c-44de-b6e4-90101ae9f364",
   "metadata": {},
   "outputs": [],
   "source": [
    "import firebase_admin\n",
    "from firebase_admin import credentials\n",
    "from firebase_admin import firestore\n",
    "\n",
    "# Use a service account.\n",
    "cred = credentials.Certificate('fireship-react-next-fire-ef47d-1ec701495136.json')\n",
    "\n",
    "app = firebase_admin.initialize_app(cred)\n",
    "\n",
    "db = firestore.client()\n"
   ]
  },
  {
   "cell_type": "code",
   "execution_count": 4,
   "id": "b8689ec6-077b-40fa-b12c-22123110ee21",
   "metadata": {},
   "outputs": [],
   "source": [
    "# create 100 records for testing\n",
    "\n",
    "for i in range(100):\n",
    "    doc_ref = db.collection(\"tmpTest\").document(f\"{i}\")\n",
    "    doc_ref.set({\"first\": \"Ada\", \"last\": \"Lovelace\", \"born\": 1815})\n"
   ]
  },
  {
   "cell_type": "code",
   "execution_count": 6,
   "id": "639e8ce9-5c53-4669-aae5-6d84a7c3f256",
   "metadata": {
    "scrolled": true
   },
   "outputs": [
    {
     "name": "stdout",
     "output_type": "stream",
     "text": [
      "0 => {'last': 'Lovelace', 'first': 'Ada', 'born': 1815}\n",
      "1 => {'last': 'Lovelace', 'first': 'Ada', 'born': 1815}\n",
      "10 => {'last': 'Lovelace', 'first': 'Ada', 'born': 1815}\n",
      "11 => {'last': 'Lovelace', 'first': 'Ada', 'born': 1815}\n",
      "12 => {'last': 'Lovelace', 'first': 'Ada', 'born': 1815}\n",
      "13 => {'last': 'Lovelace', 'first': 'Ada', 'born': 1815}\n",
      "14 => {'last': 'Lovelace', 'first': 'Ada', 'born': 1815}\n",
      "15 => {'last': 'Lovelace', 'first': 'Ada', 'born': 1815}\n",
      "16 => {'last': 'Lovelace', 'first': 'Ada', 'born': 1815}\n",
      "17 => {'last': 'Lovelace', 'first': 'Ada', 'born': 1815}\n",
      "18 => {'last': 'Lovelace', 'first': 'Ada', 'born': 1815}\n",
      "19 => {'last': 'Lovelace', 'first': 'Ada', 'born': 1815}\n",
      "2 => {'last': 'Lovelace', 'first': 'Ada', 'born': 1815}\n",
      "20 => {'last': 'Lovelace', 'first': 'Ada', 'born': 1815}\n",
      "21 => {'last': 'Lovelace', 'first': 'Ada', 'born': 1815}\n",
      "22 => {'last': 'Lovelace', 'first': 'Ada', 'born': 1815}\n",
      "23 => {'last': 'Lovelace', 'first': 'Ada', 'born': 1815}\n",
      "24 => {'last': 'Lovelace', 'first': 'Ada', 'born': 1815}\n",
      "25 => {'last': 'Lovelace', 'first': 'Ada', 'born': 1815}\n",
      "26 => {'last': 'Lovelace', 'first': 'Ada', 'born': 1815}\n",
      "27 => {'last': 'Lovelace', 'first': 'Ada', 'born': 1815}\n",
      "28 => {'last': 'Lovelace', 'first': 'Ada', 'born': 1815}\n",
      "29 => {'last': 'Lovelace', 'first': 'Ada', 'born': 1815}\n",
      "3 => {'last': 'Lovelace', 'first': 'Ada', 'born': 1815}\n",
      "30 => {'last': 'Lovelace', 'first': 'Ada', 'born': 1815}\n",
      "31 => {'last': 'Lovelace', 'first': 'Ada', 'born': 1815}\n",
      "32 => {'last': 'Lovelace', 'first': 'Ada', 'born': 1815}\n",
      "33 => {'last': 'Lovelace', 'first': 'Ada', 'born': 1815}\n",
      "34 => {'last': 'Lovelace', 'first': 'Ada', 'born': 1815}\n",
      "35 => {'last': 'Lovelace', 'first': 'Ada', 'born': 1815}\n",
      "36 => {'last': 'Lovelace', 'first': 'Ada', 'born': 1815}\n",
      "37 => {'last': 'Lovelace', 'first': 'Ada', 'born': 1815}\n",
      "38 => {'last': 'Lovelace', 'first': 'Ada', 'born': 1815}\n",
      "39 => {'last': 'Lovelace', 'first': 'Ada', 'born': 1815}\n",
      "4 => {'last': 'Lovelace', 'first': 'Ada', 'born': 1815}\n",
      "40 => {'last': 'Lovelace', 'first': 'Ada', 'born': 1815}\n",
      "41 => {'last': 'Lovelace', 'first': 'Ada', 'born': 1815}\n",
      "42 => {'last': 'Lovelace', 'first': 'Ada', 'born': 1815}\n",
      "43 => {'last': 'Lovelace', 'first': 'Ada', 'born': 1815}\n",
      "44 => {'last': 'Lovelace', 'first': 'Ada', 'born': 1815}\n",
      "45 => {'last': 'Lovelace', 'first': 'Ada', 'born': 1815}\n",
      "46 => {'last': 'Lovelace', 'first': 'Ada', 'born': 1815}\n",
      "47 => {'last': 'Lovelace', 'first': 'Ada', 'born': 1815}\n",
      "48 => {'last': 'Lovelace', 'first': 'Ada', 'born': 1815}\n",
      "49 => {'last': 'Lovelace', 'first': 'Ada', 'born': 1815}\n",
      "5 => {'last': 'Lovelace', 'first': 'Ada', 'born': 1815}\n",
      "50 => {'last': 'Lovelace', 'first': 'Ada', 'born': 1815}\n",
      "51 => {'last': 'Lovelace', 'first': 'Ada', 'born': 1815}\n",
      "52 => {'last': 'Lovelace', 'first': 'Ada', 'born': 1815}\n",
      "53 => {'last': 'Lovelace', 'first': 'Ada', 'born': 1815}\n",
      "54 => {'last': 'Lovelace', 'first': 'Ada', 'born': 1815}\n",
      "55 => {'last': 'Lovelace', 'first': 'Ada', 'born': 1815}\n",
      "56 => {'last': 'Lovelace', 'first': 'Ada', 'born': 1815}\n",
      "57 => {'last': 'Lovelace', 'first': 'Ada', 'born': 1815}\n",
      "58 => {'last': 'Lovelace', 'first': 'Ada', 'born': 1815}\n",
      "59 => {'last': 'Lovelace', 'first': 'Ada', 'born': 1815}\n",
      "6 => {'last': 'Lovelace', 'first': 'Ada', 'born': 1815}\n",
      "60 => {'last': 'Lovelace', 'first': 'Ada', 'born': 1815}\n",
      "61 => {'last': 'Lovelace', 'first': 'Ada', 'born': 1815}\n",
      "62 => {'last': 'Lovelace', 'first': 'Ada', 'born': 1815}\n",
      "63 => {'last': 'Lovelace', 'first': 'Ada', 'born': 1815}\n",
      "64 => {'last': 'Lovelace', 'first': 'Ada', 'born': 1815}\n",
      "65 => {'last': 'Lovelace', 'first': 'Ada', 'born': 1815}\n",
      "66 => {'last': 'Lovelace', 'first': 'Ada', 'born': 1815}\n",
      "67 => {'last': 'Lovelace', 'first': 'Ada', 'born': 1815}\n",
      "68 => {'last': 'Lovelace', 'first': 'Ada', 'born': 1815}\n",
      "69 => {'last': 'Lovelace', 'first': 'Ada', 'born': 1815}\n",
      "7 => {'last': 'Lovelace', 'first': 'Ada', 'born': 1815}\n",
      "70 => {'last': 'Lovelace', 'first': 'Ada', 'born': 1815}\n",
      "71 => {'last': 'Lovelace', 'first': 'Ada', 'born': 1815}\n",
      "72 => {'last': 'Lovelace', 'first': 'Ada', 'born': 1815}\n",
      "73 => {'last': 'Lovelace', 'first': 'Ada', 'born': 1815}\n",
      "74 => {'last': 'Lovelace', 'first': 'Ada', 'born': 1815}\n",
      "75 => {'last': 'Lovelace', 'first': 'Ada', 'born': 1815}\n",
      "76 => {'last': 'Lovelace', 'first': 'Ada', 'born': 1815}\n",
      "77 => {'last': 'Lovelace', 'first': 'Ada', 'born': 1815}\n",
      "78 => {'last': 'Lovelace', 'first': 'Ada', 'born': 1815}\n",
      "79 => {'last': 'Lovelace', 'first': 'Ada', 'born': 1815}\n",
      "8 => {'last': 'Lovelace', 'first': 'Ada', 'born': 1815}\n",
      "80 => {'last': 'Lovelace', 'first': 'Ada', 'born': 1815}\n",
      "81 => {'last': 'Lovelace', 'first': 'Ada', 'born': 1815}\n",
      "82 => {'last': 'Lovelace', 'first': 'Ada', 'born': 1815}\n",
      "83 => {'last': 'Lovelace', 'first': 'Ada', 'born': 1815}\n",
      "84 => {'last': 'Lovelace', 'first': 'Ada', 'born': 1815}\n",
      "85 => {'last': 'Lovelace', 'first': 'Ada', 'born': 1815}\n",
      "86 => {'last': 'Lovelace', 'first': 'Ada', 'born': 1815}\n",
      "87 => {'last': 'Lovelace', 'first': 'Ada', 'born': 1815}\n",
      "88 => {'last': 'Lovelace', 'first': 'Ada', 'born': 1815}\n",
      "89 => {'last': 'Lovelace', 'first': 'Ada', 'born': 1815}\n",
      "9 => {'last': 'Lovelace', 'first': 'Ada', 'born': 1815}\n",
      "90 => {'last': 'Lovelace', 'first': 'Ada', 'born': 1815}\n",
      "91 => {'last': 'Lovelace', 'first': 'Ada', 'born': 1815}\n",
      "92 => {'last': 'Lovelace', 'first': 'Ada', 'born': 1815}\n",
      "93 => {'last': 'Lovelace', 'first': 'Ada', 'born': 1815}\n",
      "94 => {'last': 'Lovelace', 'first': 'Ada', 'born': 1815}\n",
      "95 => {'last': 'Lovelace', 'first': 'Ada', 'born': 1815}\n",
      "96 => {'last': 'Lovelace', 'first': 'Ada', 'born': 1815}\n",
      "97 => {'last': 'Lovelace', 'first': 'Ada', 'born': 1815}\n",
      "98 => {'last': 'Lovelace', 'first': 'Ada', 'born': 1815}\n",
      "99 => {'last': 'Lovelace', 'first': 'Ada', 'born': 1815}\n"
     ]
    }
   ],
   "source": [
    "# test with read\n",
    "\n",
    "users_ref = db.collection(\"tmpTest\")\n",
    "docs = users_ref.stream()\n",
    "TEST_ROUND = 1\n",
    "\n",
    "for _ in range(TEST_ROUND):\n",
    "    for doc in docs:\n",
    "        print(f\"{doc.id} => {doc.to_dict()}\")\n",
    "        # break\n",
    "\n",
    "# 10:46 pm, 8/8/2023, ran 1 round. reads total was 66 -> 166"
   ]
  },
  {
   "cell_type": "code",
   "execution_count": 7,
   "id": "9f02c6ef-0253-4609-a044-14e59e9b7b0d",
   "metadata": {},
   "outputs": [
    {
     "ename": "AttributeError",
     "evalue": "'list' object has no attribute 'exists'",
     "output_type": "error",
     "traceback": [
      "\u001b[0;31m---------------------------------------------------------------------------\u001b[0m",
      "\u001b[0;31mAttributeError\u001b[0m                            Traceback (most recent call last)",
      "Cell \u001b[0;32mIn[7], line 6\u001b[0m\n\u001b[1;32m      3\u001b[0m doc_ref \u001b[38;5;241m=\u001b[39m db\u001b[38;5;241m.\u001b[39mcollection(\u001b[38;5;124m\"\u001b[39m\u001b[38;5;124mtmpTest\u001b[39m\u001b[38;5;124m\"\u001b[39m)\n\u001b[1;32m      5\u001b[0m doc \u001b[38;5;241m=\u001b[39m doc_ref\u001b[38;5;241m.\u001b[39mget()\n\u001b[0;32m----> 6\u001b[0m \u001b[38;5;28;01mif\u001b[39;00m \u001b[43mdoc\u001b[49m\u001b[38;5;241;43m.\u001b[39;49m\u001b[43mexists\u001b[49m:\n\u001b[1;32m      7\u001b[0m     \u001b[38;5;28mprint\u001b[39m(\u001b[38;5;124mf\u001b[39m\u001b[38;5;124m\"\u001b[39m\u001b[38;5;124mDocument data: \u001b[39m\u001b[38;5;132;01m{\u001b[39;00mdoc\u001b[38;5;241m.\u001b[39mto_dict()\u001b[38;5;132;01m}\u001b[39;00m\u001b[38;5;124m\"\u001b[39m)\n\u001b[1;32m      8\u001b[0m \u001b[38;5;28;01melse\u001b[39;00m:\n",
      "\u001b[0;31mAttributeError\u001b[0m: 'list' object has no attribute 'exists'"
     ]
    }
   ],
   "source": [
    "# method 2\n",
    "\n",
    "doc_ref = db.collection(\"tmpTest\")\n",
    "\n",
    "doc = doc_ref.get()\n",
    "\n",
    "if doc:\n",
    "    for _ in doc:\n",
    "        print(f\"Document data: {_.to_dict()}\")\n",
    "else:\n",
    "    print(\"No such document!\")\n",
    "\n",
    "# 166 -> 266, yep... same"
   ]
  },
  {
   "cell_type": "code",
   "execution_count": 15,
   "id": "d8a40a14-3cb0-482c-91bf-77c7cef4b274",
   "metadata": {
    "scrolled": true
   },
   "outputs": [
    {
     "data": {
      "text/plain": [
       "['__class__',\n",
       " '__delattr__',\n",
       " '__dict__',\n",
       " '__dir__',\n",
       " '__doc__',\n",
       " '__eq__',\n",
       " '__format__',\n",
       " '__ge__',\n",
       " '__getattribute__',\n",
       " '__gt__',\n",
       " '__hash__',\n",
       " '__init__',\n",
       " '__init_subclass__',\n",
       " '__le__',\n",
       " '__lt__',\n",
       " '__module__',\n",
       " '__ne__',\n",
       " '__new__',\n",
       " '__reduce__',\n",
       " '__reduce_ex__',\n",
       " '__repr__',\n",
       " '__setattr__',\n",
       " '__sizeof__',\n",
       " '__str__',\n",
       " '__subclasshook__',\n",
       " '__weakref__',\n",
       " '_aggregation_query',\n",
       " '_chunkify',\n",
       " '_client',\n",
       " '_parent_info',\n",
       " '_path',\n",
       " '_prep_add',\n",
       " '_prep_get_or_stream',\n",
       " '_prep_list_documents',\n",
       " '_query',\n",
       " 'add',\n",
       " 'count',\n",
       " 'document',\n",
       " 'end_at',\n",
       " 'end_before',\n",
       " 'get',\n",
       " 'id',\n",
       " 'limit',\n",
       " 'limit_to_last',\n",
       " 'list_documents',\n",
       " 'offset',\n",
       " 'on_snapshot',\n",
       " 'order_by',\n",
       " 'parent',\n",
       " 'recursive',\n",
       " 'select',\n",
       " 'start_after',\n",
       " 'start_at',\n",
       " 'stream',\n",
       " 'where']"
      ]
     },
     "execution_count": 15,
     "metadata": {},
     "output_type": "execute_result"
    }
   ],
   "source": [
    "dir(doc_ref)"
   ]
  },
  {
   "cell_type": "code",
   "execution_count": null,
   "id": "7faecb63-bcbc-46ed-9f34-911ffd522ad2",
   "metadata": {},
   "outputs": [],
   "source": []
  }
 ],
 "metadata": {
  "kernelspec": {
   "display_name": "Python 3 (ipykernel)",
   "language": "python",
   "name": "python3"
  },
  "language_info": {
   "codemirror_mode": {
    "name": "ipython",
    "version": 3
   },
   "file_extension": ".py",
   "mimetype": "text/x-python",
   "name": "python",
   "nbconvert_exporter": "python",
   "pygments_lexer": "ipython3",
   "version": "3.9.17"
  }
 },
 "nbformat": 4,
 "nbformat_minor": 5
}
